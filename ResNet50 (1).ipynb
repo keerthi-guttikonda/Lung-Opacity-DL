{
 "cells": [
  {
   "cell_type": "raw",
   "id": "bd3de8d9-6d14-4638-9cc3-f7b584970edd",
   "metadata": {},
   "source": [
    "1. Import Necessary Libraries\n",
    "\n",
    "This section imports the essential libraries required for building and training the model. These include libraries for handling directories, visualizing results, and constructing the model using TensorFlow and Keras."
   ]
  },
  {
   "cell_type": "code",
   "execution_count": 6,
   "id": "f9994054-bde2-42b9-b68d-143d52101c7c",
   "metadata": {},
   "outputs": [],
   "source": [
    "import os\n",
    "import matplotlib.pyplot as plt\n",
    "from tensorflow.keras.preprocessing.image import ImageDataGenerator\n",
    "from tensorflow.keras.applications import ResNet50\n",
    "from tensorflow.keras.models import Sequential\n",
    "from tensorflow.keras.layers import Dense, Flatten, Dropout\n",
    "from tensorflow.keras.optimizers import Adam"
   ]
  },
  {
   "cell_type": "code",
   "execution_count": null,
   "id": "ae0f7d1c-6a21-43ad-b94d-3a3379c39b81",
   "metadata": {},
   "outputs": [],
   "source": []
  },
  {
   "cell_type": "raw",
   "id": "a17f8cd4-3cc4-4719-95e3-c0405b857179",
   "metadata": {},
   "source": [
    "2. Define Directory Paths\n",
    "\n",
    "This section sets up the directory paths for the dataset. The dataset is assumed to be organized into training and validation folders, with subfolders representing different classes."
   ]
  },
  {
   "cell_type": "code",
   "execution_count": 7,
   "id": "465e975a-f8b2-490c-b367-9f51511ec747",
   "metadata": {},
   "outputs": [],
   "source": [
    "base_dir = 'C:/Users/DELL/OneDrive/Documents/Dataset/new'\n",
    "train_dir = os.path.join(base_dir, 'train')\n",
    "validation_dir = os.path.join(base_dir, 'validation')\n",
    "\n",
    "folders = ['Lung_Opacity', 'Normal']"
   ]
  },
  {
   "cell_type": "code",
   "execution_count": null,
   "id": "f5b3fcdb-662b-46e7-aaa2-35fa247b11c4",
   "metadata": {},
   "outputs": [],
   "source": []
  },
  {
   "cell_type": "raw",
   "id": "1c55ec1b-90cd-40e7-970d-d6eaebf607a3",
   "metadata": {},
   "source": [
    "3. Initialize Image Data Generators\n",
    "\n",
    "This section initializes the ImageDataGenerator objects for data augmentation and splitting the dataset into training and validation sets. Data augmentation helps in preventing overfitting by generating new images through transformations."
   ]
  },
  {
   "cell_type": "code",
   "execution_count": 8,
   "id": "bb408a29-da31-4416-9d17-8f0c5ae1f549",
   "metadata": {},
   "outputs": [],
   "source": [
    "train_datagen = ImageDataGenerator(\n",
    "    rescale=1. / 255,\n",
    "    rotation_range=20,\n",
    "    width_shift_range=0.2,\n",
    "    height_shift_range=0.2,\n",
    "    shear_range=0.2,\n",
    "    zoom_range=0.2,\n",
    "    horizontal_flip=True,\n",
    "    fill_mode='nearest',\n",
    "    validation_split=0.2 \n",
    ")"
   ]
  },
  {
   "cell_type": "code",
   "execution_count": null,
   "id": "38c466db-06ca-4a9c-a432-6e394272d89b",
   "metadata": {},
   "outputs": [],
   "source": []
  },
  {
   "cell_type": "raw",
   "id": "711fd999-d00c-4e20-b4ca-cb0ce2269725",
   "metadata": {},
   "source": [
    "4. Create Training and Validation Generators\n",
    "\n",
    "This section sets up the data generators for training and validation by specifying the directory paths, target image size, batch size, and class mode. These generators will be used to feed images into the model during training."
   ]
  },
  {
   "cell_type": "code",
   "execution_count": 9,
   "id": "1635e492-97ad-447b-92fe-a438ae05d71d",
   "metadata": {},
   "outputs": [
    {
     "name": "stdout",
     "output_type": "stream",
     "text": [
      "Found 3200 images belonging to 2 classes.\n",
      "Found 800 images belonging to 2 classes.\n"
     ]
    }
   ],
   "source": [
    "train_generator = train_datagen.flow_from_directory(\n",
    "    base_dir,\n",
    "    target_size=(224, 224),\n",
    "    batch_size=32,\n",
    "    class_mode='categorical',\n",
    "    classes=folders,\n",
    "    subset='training'\n",
    ")\n",
    "\n",
    "validation_generator = train_datagen.flow_from_directory(\n",
    "    base_dir,\n",
    "    target_size=(224, 224),\n",
    "    batch_size=32,\n",
    "    class_mode='categorical',\n",
    "    classes=folders,\n",
    "    subset='validation'\n",
    ")"
   ]
  },
  {
   "cell_type": "code",
   "execution_count": null,
   "id": "296becae-6e65-4ede-a783-3cbbaf02f0e2",
   "metadata": {},
   "outputs": [],
   "source": []
  },
  {
   "cell_type": "raw",
   "id": "a24c45db-4697-46d8-83b5-b1816bbe37c9",
   "metadata": {},
   "source": [
    "5. Load Pretrained ResNet50 Model\n",
    "\n",
    "This section loads the ResNet50 model pre-trained on the ImageNet dataset, excluding its top layers, and defines the input shape for your dataset. The pretrained model will act as a feature extractor."
   ]
  },
  {
   "cell_type": "code",
   "execution_count": 10,
   "id": "6341e35e-ef8f-4949-861e-53474b7bed09",
   "metadata": {},
   "outputs": [],
   "source": [
    "resnet50_base = ResNet50(weights='imagenet', include_top=False, input_shape=(224, 224, 3))"
   ]
  },
  {
   "cell_type": "code",
   "execution_count": null,
   "id": "af61ebe2-1a52-4ab5-b1e5-707b6fe3fc6d",
   "metadata": {},
   "outputs": [],
   "source": []
  },
  {
   "cell_type": "raw",
   "id": "497664d2-90cb-4d15-a457-047d6fdd3312",
   "metadata": {},
   "source": [
    "6. Build the Model\n",
    "\n",
    "In this section, you construct the model by adding the ResNet50 base model followed by a flattening layer, a dense layer with dropout for regularization, and a final output layer with softmax activation for classification."
   ]
  },
  {
   "cell_type": "code",
   "execution_count": 11,
   "id": "ca47b05e-837b-4666-82a3-e8b7a76d587e",
   "metadata": {},
   "outputs": [],
   "source": [
    "model = Sequential()\n",
    "model.add(resnet50_base)\n",
    "model.add(Flatten())\n",
    "model.add(Dense(256, activation='relu'))\n",
    "model.add(Dropout(0.5))\n",
    "model.add(Dense(2, activation='softmax')) "
   ]
  },
  {
   "cell_type": "code",
   "execution_count": null,
   "id": "0086a1f1-debb-4c9e-b81f-5d7b3a094c27",
   "metadata": {},
   "outputs": [],
   "source": []
  },
  {
   "cell_type": "raw",
   "id": "360d2803-78e5-4908-9e9b-6d97a0bc1f8f",
   "metadata": {},
   "source": [
    "7. Freeze Base Model Layers\n",
    "\n",
    "Here, you freeze the layers of the ResNet50 model to prevent them from being updated during the training process. This allows the pretrained weights to be preserved while fine-tuning the newly added layers."
   ]
  },
  {
   "cell_type": "code",
   "execution_count": 12,
   "id": "a9d7fe30-3829-41db-aa74-ac26e3f7c47e",
   "metadata": {},
   "outputs": [],
   "source": [
    "for layer in resnet50_base.layers:\n",
    "    layer.trainable = False"
   ]
  },
  {
   "cell_type": "code",
   "execution_count": null,
   "id": "af951c9d-25a5-419a-8521-9d586b674880",
   "metadata": {},
   "outputs": [],
   "source": []
  },
  {
   "cell_type": "raw",
   "id": "98e2aa37-fcb4-4034-b811-fc44e37daa64",
   "metadata": {},
   "source": [
    "8. Compile the Model\n",
    "\n",
    "This section compiles the model, specifying the optimizer, loss function, and evaluation metrics. The learning rate is set for the Adam optimizer, and categorical cross-entropy is used as the loss function for multi-class classification."
   ]
  },
  {
   "cell_type": "code",
   "execution_count": 13,
   "id": "8469bbca-b13b-4d08-a76e-f6dbf6e5db1d",
   "metadata": {},
   "outputs": [],
   "source": [
    "model.compile(\n",
    "    optimizer=Adam(learning_rate=1e-4),\n",
    "    loss='categorical_crossentropy',\n",
    "    metrics=['accuracy']\n",
    ")"
   ]
  },
  {
   "cell_type": "code",
   "execution_count": null,
   "id": "3cc145df-0dbc-47ff-82b7-e6043431a910",
   "metadata": {},
   "outputs": [],
   "source": []
  },
  {
   "cell_type": "raw",
   "id": "9a938913-aebc-4f19-b6d7-763dac2f69f6",
   "metadata": {},
   "source": [
    "9. Train the Model\n",
    "\n",
    "This section trains the model using the training generator and evaluates it using the validation generator. The number of epochs specifies how many times the model will iterate over the entire dataset."
   ]
  },
  {
   "cell_type": "code",
   "execution_count": null,
   "id": "e61aa1d3-1165-4c08-87ba-4e07fe581477",
   "metadata": {},
   "outputs": [],
   "source": [
    "history = model.fit(\n",
    "    train_generator,\n",
    "    epochs=15,\n",
    "    validation_data=validation_generator\n",
    ")"
   ]
  },
  {
   "cell_type": "raw",
   "id": "4d21690e-614e-4c7a-8d46-0797c83f643c",
   "metadata": {},
   "source": [
    "Epoch 1/15\n",
    "100/100 ━━━━━━━━━━━━━━━━━━━━ 237s 2s/step - accuracy: 0.5630 - loss: 0.8151 - val_accuracy: 0.8963 - val_loss: 0.5376\n",
    "Epoch 2/15\n",
    "100/100 ━━━━━━━━━━━━━━━━━━━━ 216s 2s/step - accuracy: 0.6911 - loss: 0.6098 - val_accuracy: 0.8400 - val_loss: 0.4752\n",
    "Epoch 3/15\n",
    "100/100 ━━━━━━━━━━━━━━━━━━━━ 2774s 28s/step - accuracy: 0.7209 - loss: 0.5684 - val_accuracy: 0.8838 - val_loss: 0.4030\n",
    "Epoch 4/15\n",
    "100/100 ━━━━━━━━━━━━━━━━━━━━ 223s 2s/step - accuracy: 0.7541 - loss: 0.5311 - val_accuracy: 0.9125 - val_loss: 0.3944\n",
    "Epoch 5/15\n",
    "100/100 ━━━━━━━━━━━━━━━━━━━━ 215s 2s/step - accuracy: 0.7437 - loss: 0.5429 - val_accuracy: 0.8863 - val_loss: 0.3884\n",
    "Epoch 6/15\n",
    "100/100 ━━━━━━━━━━━━━━━━━━━━ 213s 2s/step - accuracy: 0.7497 - loss: 0.5296 - val_accuracy: 0.8087 - val_loss: 0.4339\n",
    "Epoch 7/15\n",
    "100/100 ━━━━━━━━━━━━━━━━━━━━ 213s 2s/step - accuracy: 0.7567 - loss: 0.5220 - val_accuracy: 0.7450 - val_loss: 0.5016\n",
    "Epoch 8/15\n",
    "100/100 ━━━━━━━━━━━━━━━━━━━━ 272s 3s/step - accuracy: 0.7226 - loss: 0.5751 - val_accuracy: 0.8888 - val_loss: 0.3689\n",
    "Epoch 9/15\n",
    "100/100 ━━━━━━━━━━━━━━━━━━━━ 213s 2s/step - accuracy: 0.7556 - loss: 0.5177 - val_accuracy: 0.8913 - val_loss: 0.3453\n",
    "Epoch 10/15\n",
    "100/100 ━━━━━━━━━━━━━━━━━━━━ 446s 4s/step - accuracy: 0.7470 - loss: 0.5321 - val_accuracy: 0.8963 - val_loss: 0.3964\n",
    "Epoch 11/15\n",
    "100/100 ━━━━━━━━━━━━━━━━━━━━ 220s 2s/step - accuracy: 0.7593 - loss: 0.5298 - val_accuracy: 0.8938 - val_loss: 0.3692\n",
    "Epoch 12/15\n",
    "100/100 ━━━━━━━━━━━━━━━━━━━━ 351s 3s/step - accuracy: 0.7486 - loss: 0.5167 - val_accuracy: 0.9087 - val_loss: 0.3473\n",
    "Epoch 13/15\n",
    "100/100 ━━━━━━━━━━━━━━━━━━━━ 478s 5s/step - accuracy: 0.7680 - loss: 0.5049 - val_accuracy: 0.9000 - val_loss: 0.2878\n",
    "Epoch 14/15\n",
    "100/100 ━━━━━━━━━━━━━━━━━━━━ 241s 2s/step - accuracy: 0.7665 - loss: 0.5003 - val_accuracy: 0.8875 - val_loss: 0.3451\n",
    "Epoch 15/15\n",
    "100/100 ━━━━━━━━━━━━━━━━━━━━ 213s 2s/step - accuracy: 0.7579 - loss: 0.5104 - val_accuracy: 0.9075 - val_loss: 0.2944 \n",
    "\n",
    "Process finished with exit code 0"
   ]
  },
  {
   "cell_type": "code",
   "execution_count": null,
   "id": "feac4e27-3701-44c7-944b-618828d4deeb",
   "metadata": {},
   "outputs": [],
   "source": []
  },
  {
   "cell_type": "raw",
   "id": "11239665-e7cf-47f6-a35f-03a25de8fd75",
   "metadata": {},
   "source": [
    "10. Save the Model\n",
    "\n",
    "Here, you save the trained model to a file. This allows you to reuse the model without retraining it."
   ]
  },
  {
   "cell_type": "code",
   "execution_count": null,
   "id": "059d5e16-ef7b-4e02-889b-3befe78a40ab",
   "metadata": {},
   "outputs": [],
   "source": [
    "model.save('resnet50_lung_opacity_classifier.h5')"
   ]
  },
  {
   "cell_type": "code",
   "execution_count": null,
   "id": "4331f153-00fc-49d8-9c81-ded51c690377",
   "metadata": {},
   "outputs": [],
   "source": []
  },
  {
   "cell_type": "raw",
   "id": "bf5e6dbf-bbf1-4a9f-ba61-133503b377e3",
   "metadata": {},
   "source": [
    "11. Visualize Training Results\n",
    "\n",
    "This final section plots the training and validation accuracy and loss over the epochs to help you understand the model's performance. It provides insights into how well the model is learning and if it's overfitting or underfitting."
   ]
  },
  {
   "cell_type": "code",
   "execution_count": null,
   "id": "11290ef9-ab1d-464c-880b-31b44419706d",
   "metadata": {},
   "outputs": [],
   "source": [
    "plt.plot(history.history['accuracy'])\n",
    "plt.plot(history.history['val_accuracy'])\n",
    "plt.title('Model accuracy')\n",
    "plt.ylabel('Accuracy')\n",
    "plt.xlabel('Epoch')\n",
    "plt.legend(['Train', 'Validation'], loc='upper left')\n",
    "plt.show()\n",
    "\n",
    "\n",
    "plt.plot(history.history['loss'])\n",
    "plt.plot(history.history['val_loss'])\n",
    "plt.title('Model loss')\n",
    "plt.ylabel('Loss')\n",
    "plt.xlabel('Epoch')\n",
    "plt.legend(['Train', 'Validation'], loc='upper left')\n",
    "plt.show()"
   ]
  },
  {
   "attachments": {
    "d184a698-5221-41e5-86c2-1acb88a17278.png": {
     "image/png": "[encoded data removed]"
    }
   },
   "cell_type": "markdown",
   "id": "64fd006c-94b6-4e27-8a53-a3101fd5e754",
   "metadata": {},
   "source": [
    "![Figure_1-resnet-acc.png](attachment:d184a698-5221-41e5-86c2-1acb88a17278.png)"
   ]
  },
  {
   "attachments": {
    "9f7a05e0-d2a1-4122-b372-4fc306afd099.png": {
     "image/png": "[encoded data removed]"
    }
   },
   "cell_type": "markdown",
   "id": "0863d14b-15fd-4bbc-b37d-8a1f1a4d820c",
   "metadata": {},
   "source": [
    "![Figure_1-resnet-loss.png](attachment:9f7a05e0-d2a1-4122-b372-4fc306afd099.png)"
   ]
  },
  {
   "cell_type": "code",
   "execution_count": null,
   "id": "50230c22-b22c-4c3d-9344-3f732942cfc2",
   "metadata": {},
   "outputs": [],
   "source": []
  }
 ],
 "metadata": {
  "kernelspec": {
   "display_name": "Python 3 (ipykernel)",
   "language": "python",
   "name": "python3"
  },
  "language_info": {
   "codemirror_mode": {
    "name": "ipython",
    "version": 3
   },
   "file_extension": ".py",
   "mimetype": "text/x-python",
   "name": "python",
   "nbconvert_exporter": "python",
   "pygments_lexer": "ipython3",
   "version": "3.12.4"
  }
 },
 "nbformat": 4,
 "nbformat_minor": 5
}
